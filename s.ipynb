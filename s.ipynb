{
 "cells": [
  {
   "cell_type": "code",
   "execution_count": 1,
   "metadata": {
    "collapsed": true
   },
   "outputs": [],
   "source": [
    "%load_ext autoreload\n",
    "%autoreload 2"
   ]
  },
  {
   "cell_type": "code",
   "execution_count": 2,
   "metadata": {},
   "outputs": [
    {
     "name": "stderr",
     "output_type": "stream",
     "text": [
      "Using TensorFlow backend.\n"
     ]
    }
   ],
   "source": [
    "import numpy as np\n",
    "import sys\n",
    "sys.path.append('utils/')\n",
    "\n",
    "import keras\n",
    "from keras import optimizers\n",
    "from keras.callbacks import ReduceLROnPlateau, EarlyStopping\n",
    "\n",
    "# use non standard flow_from_directory\n",
    "from image_preprocessing_ver2 import ImageDataGenerator\n",
    "# it outputs y_batch that contains onehot targets and logits\n",
    "# logits came from xception\n",
    "\n",
    "from keras.models import Model\n",
    "from keras.layers import Lambda, concatenate, Activation\n",
    "from keras.losses import categorical_crossentropy as logloss\n",
    "from keras.metrics import categorical_accuracy, top_k_categorical_accuracy\n",
    "from keras import backend as K\n",
    "\n",
    "from mobilenet import get_mobilenet\n",
    "from keras.applications.mobilenet import preprocess_input\n",
    "\n",
    "import matplotlib.pyplot as plt\n",
    "%matplotlib inline"
   ]
  },
  {
   "cell_type": "code",
   "execution_count": 3,
   "metadata": {
    "collapsed": true
   },
   "outputs": [],
   "source": [
    "data_dir = '/home/ubuntu/data/'"
   ]
  },
  {
   "cell_type": "code",
   "execution_count": 4,
   "metadata": {
    "collapsed": true
   },
   "outputs": [],
   "source": [
    "train_logits = np.load(data_dir + 'train_logits.npy')[()]\n",
    "val_logits = np.load(data_dir + 'val_logits.npy')[()]"
   ]
  },
  {
   "cell_type": "code",
   "execution_count": 5,
   "metadata": {},
   "outputs": [
    {
     "name": "stdout",
     "output_type": "stream",
     "text": [
      "Found 25600 images belonging to 256 classes.\n",
      "Found 5120 images belonging to 256 classes.\n"
     ]
    }
   ],
   "source": [
    "data_generator = ImageDataGenerator(\n",
    "    data_format='channels_last',\n",
    "    preprocessing_function=preprocess_input\n",
    ")\n",
    "\n",
    "# note: i'm also passing dicts of logits\n",
    "train_generator = data_generator.flow_from_directory(\n",
    "    data_dir + 'train', train_logits,\n",
    "    target_size=(224, 224),\n",
    "    batch_size=64\n",
    ")\n",
    "\n",
    "val_generator = data_generator.flow_from_directory(\n",
    "    data_dir + 'val', val_logits,\n",
    "    target_size=(224, 224),\n",
    "    batch_size=64\n",
    ")"
   ]
  },
  {
   "cell_type": "markdown",
   "metadata": {},
   "source": [
    "# Create model"
   ]
  },
  {
   "cell_type": "code",
   "execution_count": 6,
   "metadata": {
    "collapsed": true
   },
   "outputs": [],
   "source": [
    "temperature = 5.0"
   ]
  },
  {
   "cell_type": "code",
   "execution_count": 7,
   "metadata": {},
   "outputs": [],
   "source": [
    "model = get_mobilenet(224, alpha=0.25, weight_decay=1e-5, dropout=0.1)\n",
    "\n",
    "# remove softmax\n",
    "model.layers.pop()\n",
    "\n",
    "# usual probabilities\n",
    "logits = model.layers[-1].output\n",
    "probabilities = Activation('softmax')(logits)\n",
    "\n",
    "# softed probabilities\n",
    "logits_T = Lambda(lambda x: x/temperature)(logits)\n",
    "probabilities_T = Activation('softmax')(logits_T)\n",
    "\n",
    "output = concatenate([probabilities, probabilities_T])\n",
    "model = Model(model.input, output)\n",
    "# now model outputs 512 dimensional vectors"
   ]
  },
  {
   "cell_type": "markdown",
   "metadata": {},
   "source": [
    "# Create custom loss"
   ]
  },
  {
   "cell_type": "code",
   "execution_count": 8,
   "metadata": {
    "collapsed": true
   },
   "outputs": [],
   "source": [
    "def knowledge_distillation_loss(y_true, y_pred, lambda_const):    \n",
    "    \n",
    "    # split in \n",
    "    #    onehot hard true targets\n",
    "    #    logits from xception\n",
    "    y_true, logits = y_true[:, :256], y_true[:, 256:]\n",
    "    \n",
    "    # convert logits to soft targets\n",
    "    y_soft = K.softmax(logits/temperature)\n",
    "    \n",
    "    # split in \n",
    "    #    usual output probabilities\n",
    "    #    probabilities made softer with temperature\n",
    "    y_pred, y_pred_soft = y_pred[:, :256], y_pred[:, 256:]    \n",
    "    \n",
    "    return lambda_const*logloss(y_true, y_pred) + logloss(y_soft, y_pred_soft)"
   ]
  },
  {
   "cell_type": "markdown",
   "metadata": {},
   "source": [
    "# For testing use usual output probabilities (without temperature)"
   ]
  },
  {
   "cell_type": "code",
   "execution_count": 9,
   "metadata": {
    "collapsed": true
   },
   "outputs": [],
   "source": [
    "def accuracy(y_true, y_pred):\n",
    "    y_true = y_true[:, :256]\n",
    "    y_pred = y_pred[:, :256]\n",
    "    return categorical_accuracy(y_true, y_pred)"
   ]
  },
  {
   "cell_type": "code",
   "execution_count": 10,
   "metadata": {
    "collapsed": true
   },
   "outputs": [],
   "source": [
    "def top_5_accuracy(y_true, y_pred):\n",
    "    y_true = y_true[:, :256]\n",
    "    y_pred = y_pred[:, :256]\n",
    "    return top_k_categorical_accuracy(y_true, y_pred)"
   ]
  },
  {
   "cell_type": "code",
   "execution_count": 11,
   "metadata": {
    "collapsed": true
   },
   "outputs": [],
   "source": [
    "def categorical_crossentropy(y_true, y_pred):\n",
    "    y_true = y_true[:, :256]\n",
    "    y_pred = y_pred[:, :256]\n",
    "    return logloss(y_true, y_pred)"
   ]
  },
  {
   "cell_type": "code",
   "execution_count": 12,
   "metadata": {
    "collapsed": true
   },
   "outputs": [],
   "source": [
    "# logloss with only soft probabilities and targets\n",
    "def soft_logloss(y_true, y_pred):     \n",
    "    logits = y_true[:, 256:]\n",
    "    y_soft = K.softmax(logits/temperature)\n",
    "    y_pred_soft = y_pred[:, 256:]    \n",
    "    return logloss(y_soft, y_pred_soft)"
   ]
  },
  {
   "cell_type": "markdown",
   "metadata": {},
   "source": [
    "# Train"
   ]
  },
  {
   "cell_type": "code",
   "execution_count": 13,
   "metadata": {
    "collapsed": true
   },
   "outputs": [],
   "source": [
    "lambda_const = 0.07\n",
    "\n",
    "model.compile(\n",
    "    optimizer=optimizers.SGD(lr=1e-1, momentum=0.9, nesterov=True), \n",
    "    loss=lambda y_true, y_pred: knowledge_distillation_loss(y_true, y_pred, lambda_const), \n",
    "    metrics=[accuracy, top_5_accuracy, categorical_crossentropy, soft_logloss]\n",
    ")"
   ]
  },
  {
   "cell_type": "code",
   "execution_count": 14,
   "metadata": {
    "scrolled": false
   },
   "outputs": [
    {
     "name": "stdout",
     "output_type": "stream",
     "text": [
      "Epoch 1/30\n",
      "400/400 [==============================] - 24s - loss: 5.8086 - accuracy: 0.2173 - top_5_accuracy: 0.4171 - categorical_crossentropy: 4.0499 - soft_logloss: 5.5225 - val_loss: 5.6917 - val_accuracy: 0.4475 - val_top_5_accuracy: 0.7285 - val_categorical_crossentropy: 2.6774 - val_soft_logloss: 5.5013\n",
      "Epoch 2/30\n",
      "400/400 [==============================] - 23s - loss: 5.6726 - accuracy: 0.4953 - top_5_accuracy: 0.7514 - categorical_crossentropy: 2.4414 - soft_logloss: 5.4984 - val_loss: 5.6416 - val_accuracy: 0.5660 - val_top_5_accuracy: 0.8070 - val_categorical_crossentropy: 2.0523 - val_soft_logloss: 5.4944\n",
      "Epoch 3/30\n",
      "400/400 [==============================] - 24s - loss: 5.6378 - accuracy: 0.5785 - top_5_accuracy: 0.8072 - categorical_crossentropy: 2.0036 - soft_logloss: 5.4938 - val_loss: 5.6240 - val_accuracy: 0.5951 - val_top_5_accuracy: 0.8303 - val_categorical_crossentropy: 1.8349 - val_soft_logloss: 5.4916\n",
      "Epoch 4/30\n",
      "400/400 [==============================] - 23s - loss: 5.6212 - accuracy: 0.6181 - top_5_accuracy: 0.8376 - categorical_crossentropy: 1.7899 - soft_logloss: 5.4917 - val_loss: 5.6167 - val_accuracy: 0.6207 - val_top_5_accuracy: 0.8410 - val_categorical_crossentropy: 1.7269 - val_soft_logloss: 5.4914\n",
      "Epoch 5/30\n",
      "400/400 [==============================] - 23s - loss: 5.6116 - accuracy: 0.6418 - top_5_accuracy: 0.8532 - categorical_crossentropy: 1.6668 - soft_logloss: 5.4904 - val_loss: 5.6128 - val_accuracy: 0.6244 - val_top_5_accuracy: 0.8428 - val_categorical_crossentropy: 1.6673 - val_soft_logloss: 5.4915\n",
      "Epoch 6/30\n",
      "400/400 [==============================] - 23s - loss: 5.6048 - accuracy: 0.6636 - top_5_accuracy: 0.8650 - categorical_crossentropy: 1.5771 - soft_logloss: 5.4896 - val_loss: 5.6079 - val_accuracy: 0.6213 - val_top_5_accuracy: 0.8496 - val_categorical_crossentropy: 1.6315 - val_soft_logloss: 5.4888\n",
      "Epoch 7/30\n",
      "400/400 [==============================] - 23s - loss: 5.6001 - accuracy: 0.6760 - top_5_accuracy: 0.8740 - categorical_crossentropy: 1.5145 - soft_logloss: 5.4891 - val_loss: 5.6029 - val_accuracy: 0.6369 - val_top_5_accuracy: 0.8518 - val_categorical_crossentropy: 1.5752 - val_soft_logloss: 5.4875\n",
      "Epoch 8/30\n",
      "400/400 [==============================] - 24s - loss: 5.5966 - accuracy: 0.6841 - top_5_accuracy: 0.8798 - categorical_crossentropy: 1.4656 - soft_logloss: 5.4888 - val_loss: 5.6024 - val_accuracy: 0.6422 - val_top_5_accuracy: 0.8596 - val_categorical_crossentropy: 1.5532 - val_soft_logloss: 5.4884\n",
      "Epoch 9/30\n",
      "400/400 [==============================] - 23s - loss: 5.5935 - accuracy: 0.6929 - top_5_accuracy: 0.8843 - categorical_crossentropy: 1.4258 - soft_logloss: 5.4883 - val_loss: 5.6016 - val_accuracy: 0.6430 - val_top_5_accuracy: 0.8539 - val_categorical_crossentropy: 1.5479 - val_soft_logloss: 5.4878\n",
      "Epoch 10/30\n",
      "400/400 [==============================] - 23s - loss: 5.5913 - accuracy: 0.7013 - top_5_accuracy: 0.8882 - categorical_crossentropy: 1.3932 - soft_logloss: 5.4882 - val_loss: 5.6010 - val_accuracy: 0.6479 - val_top_5_accuracy: 0.8586 - val_categorical_crossentropy: 1.5299 - val_soft_logloss: 5.4882\n",
      "Epoch 11/30\n",
      "400/400 [==============================] - 23s - loss: 5.5893 - accuracy: 0.7086 - top_5_accuracy: 0.8922 - categorical_crossentropy: 1.3639 - soft_logloss: 5.4881 - val_loss: 5.6000 - val_accuracy: 0.6496 - val_top_5_accuracy: 0.8643 - val_categorical_crossentropy: 1.5198 - val_soft_logloss: 5.4878\n",
      "Epoch 12/30\n",
      "400/400 [==============================] - 23s - loss: 5.5876 - accuracy: 0.7136 - top_5_accuracy: 0.8962 - categorical_crossentropy: 1.3396 - soft_logloss: 5.4879 - val_loss: 5.6018 - val_accuracy: 0.6475 - val_top_5_accuracy: 0.8602 - val_categorical_crossentropy: 1.5318 - val_soft_logloss: 5.4886\n",
      "Epoch 13/30\n",
      "400/400 [==============================] - 23s - loss: 5.5863 - accuracy: 0.7170 - top_5_accuracy: 0.8991 - categorical_crossentropy: 1.3194 - soft_logloss: 5.4879 - val_loss: 5.5964 - val_accuracy: 0.6559 - val_top_5_accuracy: 0.8660 - val_categorical_crossentropy: 1.4852 - val_soft_logloss: 5.4863\n",
      "Epoch 14/30\n",
      "400/400 [==============================] - 24s - loss: 5.5855 - accuracy: 0.7220 - top_5_accuracy: 0.8981 - categorical_crossentropy: 1.3094 - soft_logloss: 5.4877 - val_loss: 5.5999 - val_accuracy: 0.6492 - val_top_5_accuracy: 0.8609 - val_categorical_crossentropy: 1.4970 - val_soft_logloss: 5.4889\n",
      "Epoch 15/30\n",
      "400/400 [==============================] - 24s - loss: 5.5845 - accuracy: 0.7254 - top_5_accuracy: 0.9034 - categorical_crossentropy: 1.2905 - soft_logloss: 5.4879 - val_loss: 5.5961 - val_accuracy: 0.6584 - val_top_5_accuracy: 0.8604 - val_categorical_crossentropy: 1.4825 - val_soft_logloss: 5.4860\n",
      "Epoch 16/30\n",
      "400/400 [==============================] - 24s - loss: 5.5835 - accuracy: 0.7258 - top_5_accuracy: 0.9059 - categorical_crossentropy: 1.2741 - soft_logloss: 5.4879 - val_loss: 5.5975 - val_accuracy: 0.6564 - val_top_5_accuracy: 0.8686 - val_categorical_crossentropy: 1.4793 - val_soft_logloss: 5.4875\n",
      "Epoch 17/30\n",
      "400/400 [==============================] - 23s - loss: 5.5794 - accuracy: 0.7401 - top_5_accuracy: 0.9128 - categorical_crossentropy: 1.2293 - soft_logloss: 5.4868 - val_loss: 5.5948 - val_accuracy: 0.6627 - val_top_5_accuracy: 0.8682 - val_categorical_crossentropy: 1.4618 - val_soft_logloss: 5.4860\n",
      "Epoch 18/30\n",
      "400/400 [==============================] - 24s - loss: 5.5788 - accuracy: 0.7466 - top_5_accuracy: 0.9130 - categorical_crossentropy: 1.2241 - soft_logloss: 5.4866 - val_loss: 5.5970 - val_accuracy: 0.6592 - val_top_5_accuracy: 0.8641 - val_categorical_crossentropy: 1.4787 - val_soft_logloss: 5.4870\n",
      "Epoch 19/30\n",
      "400/400 [==============================] - 23s - loss: 5.5783 - accuracy: 0.7441 - top_5_accuracy: 0.9142 - categorical_crossentropy: 1.2181 - soft_logloss: 5.4866 - val_loss: 5.5931 - val_accuracy: 0.6641 - val_top_5_accuracy: 0.8715 - val_categorical_crossentropy: 1.4433 - val_soft_logloss: 5.4856\n",
      "Epoch 20/30\n",
      "400/400 [==============================] - 23s - loss: 5.5787 - accuracy: 0.7448 - top_5_accuracy: 0.9116 - categorical_crossentropy: 1.2227 - soft_logloss: 5.4866 - val_loss: 5.5967 - val_accuracy: 0.6607 - val_top_5_accuracy: 0.8658 - val_categorical_crossentropy: 1.4738 - val_soft_logloss: 5.4871\n"
     ]
    },
    {
     "data": {
      "text/plain": [
       "<keras.callbacks.History at 0x7fb007d570f0>"
      ]
     },
     "execution_count": 14,
     "metadata": {},
     "output_type": "execute_result"
    }
   ],
   "source": [
    "model.fit_generator(\n",
    "    train_generator, \n",
    "    steps_per_epoch=400, epochs=30, verbose=1,\n",
    "    callbacks=[\n",
    "        EarlyStopping(monitor='val_accuracy', patience=4, min_delta=0.01), \n",
    "        ReduceLROnPlateau(monitor='val_accuracy', factor=0.1, patience=2, epsilon=0.007)\n",
    "    ],\n",
    "    validation_data=val_generator, validation_steps=80, workers=4\n",
    ")"
   ]
  },
  {
   "cell_type": "markdown",
   "metadata": {},
   "source": [
    "# Loss/epoch plots"
   ]
  },
  {
   "cell_type": "code",
   "execution_count": 15,
   "metadata": {},
   "outputs": [
    {
     "data": {
      "image/png": "[encoded data removed]",
      "text/plain": [
       "<matplotlib.figure.Figure at 0x7fb007d6a128>"
      ]
     },
     "metadata": {},
     "output_type": "display_data"
    }
   ],
   "source": [
    "plt.plot(model.history.history['categorical_crossentropy'], label='train');\n",
    "plt.plot(model.history.history['val_categorical_crossentropy'], label='val');\n",
    "plt.legend();\n",
    "plt.xlabel('epoch');\n",
    "plt.ylabel('logloss');"
   ]
  },
  {
   "cell_type": "code",
   "execution_count": 16,
   "metadata": {},
   "outputs": [
    {
     "data": {
      "image/png": "[encoded data removed]",
      "text/plain": [
       "<matplotlib.figure.Figure at 0x7fb004fedf28>"
      ]
     },
     "metadata": {},
     "output_type": "display_data"
    }
   ],
   "source": [
    "plt.plot(model.history.history['accuracy'], label='train');\n",
    "plt.plot(model.history.history['val_accuracy'], label='val');\n",
    "plt.legend();\n",
    "plt.xlabel('epoch');\n",
    "plt.ylabel('accuracy');"
   ]
  },
  {
   "cell_type": "code",
   "execution_count": 17,
   "metadata": {
    "scrolled": true
   },
   "outputs": [
    {
     "data": {
      "image/png": "[encoded data removed]",
      "text/plain": [
       "<matplotlib.figure.Figure at 0x7fb004f23550>"
      ]
     },
     "metadata": {},
     "output_type": "display_data"
    }
   ],
   "source": [
    "plt.plot(model.history.history['top_5_accuracy'], label='train');\n",
    "plt.plot(model.history.history['val_top_5_accuracy'], label='val');\n",
    "plt.legend();\n",
    "plt.xlabel('epoch');\n",
    "plt.ylabel('top5_accuracy');"
   ]
  },
  {
   "cell_type": "markdown",
   "metadata": {},
   "source": [
    "# Results"
   ]
  },
  {
   "cell_type": "code",
   "execution_count": 18,
   "metadata": {},
   "outputs": [
    {
     "name": "stdout",
     "output_type": "stream",
     "text": [
      "Found 5120 images belonging to 256 classes.\n"
     ]
    }
   ],
   "source": [
    "val_generator_no_shuffle = data_generator.flow_from_directory(\n",
    "    data_dir + 'val', val_logits,\n",
    "    target_size=(224, 224),\n",
    "    batch_size=64, shuffle=False\n",
    ")"
   ]
  },
  {
   "cell_type": "code",
   "execution_count": 19,
   "metadata": {},
   "outputs": [
    {
     "name": "stdout",
     "output_type": "stream",
     "text": [
      "[5.595249432325363, 0.66171875000000002, 0.86679687500000002, 1.4644993908703328, 5.4862456738948824]\n"
     ]
    }
   ],
   "source": [
    "print(model.evaluate_generator(val_generator_no_shuffle, 80))"
   ]
  }
 ],
 "metadata": {
  "kernelspec": {
   "display_name": "Python 3",
   "language": "python",
   "name": "python3"
  },
  "language_info": {
   "codemirror_mode": {
    "name": "ipython",
    "version": 3
   },
   "file_extension": ".py",
   "mimetype": "text/x-python",
   "name": "python",
   "nbconvert_exporter": "python",
   "pygments_lexer": "ipython3",
   "version": "3.5.2"
  }
 },
 "nbformat": 4,
 "nbformat_minor": 2
}
